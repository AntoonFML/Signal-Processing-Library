{
 "cells": [
  {
   "cell_type": "markdown",
   "id": "f93b8212-7d8e-4ca5-af2e-fa53bc99c9ee",
   "metadata": {},
   "source": [
    "# TECHNIKI PROGRAMOWANIA - projekt 3\n",
    "### Antoni Rumowski 193087\n",
    "### Marek Marcinko 197870\n",
    "\n",
    "Wykorzystane biblioteki:\n",
    "- matplotplusplus (c++)\n",
    "- audiofile (c++)\n",
    "- numpy (python)\n",
    "- scipy.io (python)"
   ]
  },
  {
   "cell_type": "markdown",
   "id": "eb6ecb59-7920-4129-b8ca-ef526b84c008",
   "metadata": {},
   "source": [
    "# Wizualizacja wykresów 1D"
   ]
  },
  {
   "cell_type": "code",
   "execution_count": null,
   "id": "492bbf0f-df46-4836-b393-057fadf99685",
   "metadata": {},
   "outputs": [],
   "source": [
    "import os\n",
    "import platform\n",
    "import numpy as np\n",
    "from scipy import signal\n",
    "import scikit_build_example._core as m\n",
    "\n",
    "def list_audio_files(directory):\n",
    "    return [f for f in os.listdir(directory) if f.endswith('.wav')]\n",
    "\n",
    "audio_directory = 'sygnaly' \n",
    "audio_files = list_audio_files(audio_directory)\n",
    "    \n",
    "if not audio_files:\n",
    "    print(\"Brak plikow audio w katalogu.\")\n",
    "    \n",
    "print(\"Dostepne pliki audio:\")\n",
    "for i, file in enumerate(audio_files, 1):\n",
    "    print(f\"{i}. {file}\")\n",
    "    \n",
    "file_index = int(input(\"Wybierz plik audio (numer): \")) - 1\n",
    "if file_index < 0 or file_index >= len(audio_files):\n",
    "    print(\"Nieprawidłowy wybór.\")\n",
    "    \n",
    "selected_file = os.path.join(audio_directory, audio_files[file_index])\n",
    "print(f\"Wybrano plik: {selected_file}\")\n",
    "\n",
    "print(\"Wyświetlanie wykresu sygnału audio...\")\n",
    "m.grafuj(selected_file) "
   ]
  },
  {
   "cell_type": "markdown",
   "id": "ed0ed895-9c58-40b4-bd34-39bb547bd63b",
   "metadata": {},
   "source": [
    "### Wykres dla sinusa o f=25Hz\n",
    "![Sine plot](sine_plot.png)"
   ]
  },
  {
   "cell_type": "markdown",
   "id": "02828d7c-1c33-4f6d-9ee4-7250d553d928",
   "metadata": {},
   "source": [
    "# Dyksretna Transformata Fouriera\n",
    "W celu sprawdzenia poprawności wykorzystamy sinus 200Hz i sinus 25Hz"
   ]
  },
  {
   "cell_type": "code",
   "execution_count": null,
   "id": "b55e4134-9772-4f42-b0eb-582040f62514",
   "metadata": {},
   "outputs": [],
   "source": [
    "import os\n",
    "import platform\n",
    "import numpy as np\n",
    "from scipy import signal\n",
    "import scikit_build_example._core as m\n",
    "\n",
    "def list_audio_files(directory):\n",
    "    return [f for f in os.listdir(directory) if f.endswith('.wav')]\n",
    "\n",
    "audio_directory = 'sygnaly' \n",
    "audio_files = list_audio_files(audio_directory)\n",
    "    \n",
    "if not audio_files:\n",
    "    print(\"Brak plikow audio w katalogu.\")\n",
    "    \n",
    "print(\"Dostepne pliki audio:\")\n",
    "for i, file in enumerate(audio_files, 1):\n",
    "    print(f\"{i}. {file}\")\n",
    "    \n",
    "file_index = int(input(\"Wybierz plik audio (numer): \")) - 1\n",
    "if file_index < 0 or file_index >= len(audio_files):\n",
    "    print(\"Nieprawidłowy wybór.\")\n",
    "    \n",
    "selected_file = os.path.join(audio_directory, audio_files[file_index])\n",
    "print(f\"Wybrano plik: {selected_file}\")\n",
    "\n",
    "print(\"Wykonywanie transformaty Fouriera i wyświetlanie wykresu...\")\n",
    "m.transformata(selected_file)"
   ]
  },
  {
   "cell_type": "markdown",
   "id": "538a6e6b-4ea1-4aca-b9e5-68db9458fa10",
   "metadata": {},
   "source": [
    "### Wykres f=25Hz\n",
    "![dft_25hz](dft_25hz.png)\n",
    "### Wykres f=200Hz\n",
    "![dft_200hz](dft_200hz.png)"
   ]
  },
  {
   "cell_type": "markdown",
   "id": "473ca513-c8a5-410d-8fed-3c9edd0e3e0a",
   "metadata": {},
   "source": [
    "# Odwrotna Dyksretna Transformata Fouriera\n",
    "W celu sprawdzenia poprawności wykorzystamy sinus 200Hz i sinus 25Hz"
   ]
  },
  {
   "cell_type": "code",
   "execution_count": null,
   "id": "42b63cc5-effb-40cd-896c-43d091ccb19b",
   "metadata": {},
   "outputs": [],
   "source": [
    "import os\n",
    "import platform\n",
    "import numpy as np\n",
    "from scipy import signal\n",
    "import scikit_build_example._core as m\n",
    "\n",
    "def list_audio_files(directory):\n",
    "    return [f for f in os.listdir(directory) if f.endswith('.wav')]\n",
    "\n",
    "audio_directory = 'sygnaly' \n",
    "audio_files = list_audio_files(audio_directory)\n",
    "    \n",
    "if not audio_files:\n",
    "    print(\"Brak plikow audio w katalogu.\")\n",
    "    \n",
    "print(\"Dostepne pliki audio:\")\n",
    "for i, file in enumerate(audio_files, 1):\n",
    "    print(f\"{i}. {file}\")\n",
    "    \n",
    "file_index = int(input(\"Wybierz plik audio (numer): \")) - 1\n",
    "if file_index < 0 or file_index >= len(audio_files):\n",
    "    print(\"Nieprawidłowy wybór.\")\n",
    "    \n",
    "selected_file = os.path.join(audio_directory, audio_files[file_index])\n",
    "print(f\"Wybrano plik: {selected_file}\")\n",
    "\n",
    "print(\"Wykonywanie odwrotnej transformaty Fouriera i wyświetlanie wykresu...\")\n",
    "m.odwrotna(selected_file)"
   ]
  },
  {
   "cell_type": "markdown",
   "id": "86fa0868-6c0c-44bc-a19c-a02346fe2c16",
   "metadata": {},
   "source": [
    "### Wykres sinusa o f=200Hz\n",
    "![sine200Hz_plot](sine200Hz_plot.png)\n",
    "### Wykres idft dla sinusa o f=200Hz\n",
    "![idft_200Hz](idft_200Hz.png)\n",
    "### Wykres sinusa o f=25Hz\n",
    "![sine_plot](sine_plot.png)\n",
    "### Wykres idft dla sinusa o f=25Hz\n",
    "![idft_25Hz](idft_25Hz.png)"
   ]
  },
  {
   "cell_type": "markdown",
   "id": "0a65c550-68f5-4577-9725-c52b75f9817e",
   "metadata": {},
   "source": [
    "Na wykresach widoczne jest zniekształcenie wykresu na skrajach zakresu transformaty, które jest proporcjonalnie większe, im niższa jest częstotliwość oryginalnego sygnału. Prawdopodobnie jest to spowodowane utratą danych podczas zamiany pomiędzy liczbami zespolonymi a rzeczywistymi."
   ]
  },
  {
   "cell_type": "markdown",
   "id": "8886abeb-7ad2-4e90-9591-471cbc5fb4eb",
   "metadata": {},
   "source": [
    "# Generowanie sygnału o zadanych parametrach"
   ]
  },
  {
   "cell_type": "code",
   "execution_count": null,
   "id": "faef5042-24dc-4b37-a6ec-8f6782a5eeec",
   "metadata": {},
   "outputs": [],
   "source": [
    "import os\n",
    "import platform\n",
    "import numpy as np\n",
    "from scipy import signal\n",
    "import scikit_build_example._core as m\n",
    "\n",
    "def display_menu():\n",
    "    print(\"Wybierz opcje:\")\n",
    "    print(\"5. Dowolny sinus\")\n",
    "    print(\"6. Dowolny kosinus\")\n",
    "    print(\"7. Dowolny sygnal kwadratowy\")\n",
    "    print(\"8. Dowolny sygnal piloksztaltny\")\n",
    "\n",
    "display_menu()\n",
    "choice = input(\"Wybierz opcję (numer): \")\n",
    "if choice =='5':\n",
    "    fprob = 1000\n",
    "    T = 0.1 \n",
    "    t = np.linspace(0, T, int(T * fprob), endpoint=False)\n",
    "    freq = float(input((\"Podaj czestotliwosc: \")))\n",
    "    A = float(input((\"Podaj amplitude: \")))\n",
    "    x = A * np.sin(2 * np.pi * freq * t)\n",
    "    m.plot(t, x)\n",
    "elif choice =='6':\n",
    "    fprob = 10\n",
    "    T = 0.1 \n",
    "    t = np.linspace(0, T, int(T * fprob), endpoint=False)\n",
    "    freq = float(input((\"Podaj czestotliwosc: \")))\n",
    "    A = float(input((\"Podaj amplitude: \")))\n",
    "    x = A * np.cos(2 * np.pi * freq * t)\n",
    "    m.plot(t, x)\n",
    "elif choice =='7':\n",
    "    fprob = 1000\n",
    "    T = 0.1 \n",
    "    t = np.linspace(0, T, int(T * fprob), endpoint=False)\n",
    "    freq = float(input((\"Podaj czestotliwosc: \")))\n",
    "    A = float(input((\"Podaj amplitude: \")))\n",
    "    x = A * signal.square(2 * np.pi * freq * t)\n",
    "    m.plot(t, x)\n",
    "elif choice =='8':\n",
    "    fprob = 1000\n",
    "    T = 0.1 \n",
    "    t = np.linspace(0, T, int(T * fprob), endpoint=False)\n",
    "    freq = float(input((\"Podaj czestotliwosc: \")))\n",
    "    A = float(input((\"Podaj amplitude: \")))\n",
    "    x = A * signal.sawtooth(2 * np.pi * freq * t)\n",
    "    m.plot(t, x)      \n",
    "else:\n",
    "    print(\"Nieprawidłowy wybór, spróbuj ponownie.\")"
   ]
  },
  {
   "cell_type": "markdown",
   "id": "c0458aa9-211e-462c-8010-ca5c498e02ac",
   "metadata": {},
   "source": [
    "### Wygenerowany sinus f=40, A=1\n",
    "![sine_generated](sine_generated.png)\n",
    "### Wygenerowany kosinus f=50, A=2\n",
    "![cosine_generated](cosine_generated.png)\n",
    "### Wygenerowany sygnał kwadratowy f=35, A=3\n",
    "![square_generated](square_generated.png)\n",
    "### Wygenerowany sygnał piłokształtny f=25, A=1\n",
    "![sawtooth_generated](sawtooth_generated.png)"
   ]
  },
  {
   "cell_type": "markdown",
   "id": "27a65549-c922-4996-b344-d20e51b1cc9b",
   "metadata": {},
   "source": [
    "# Progowanie sygnału"
   ]
  },
  {
   "cell_type": "code",
   "execution_count": null,
   "id": "225f1540-7531-4e8e-8dd9-7cc6e6375be0",
   "metadata": {},
   "outputs": [],
   "source": [
    "import os\n",
    "import platform\n",
    "import numpy as np\n",
    "from scipy import signal\n",
    "import scikit_build_example._core as m\n",
    "\n",
    "def list_audio_files(directory):\n",
    "    return [f for f in os.listdir(directory) if f.endswith('.wav')]\n",
    "\n",
    "audio_directory = 'sygnaly' \n",
    "audio_files = list_audio_files(audio_directory)\n",
    "    \n",
    "if not audio_files:\n",
    "    print(\"Brak plikow audio w katalogu.\")\n",
    "    \n",
    "print(\"Dostepne pliki audio:\")\n",
    "for i, file in enumerate(audio_files, 1):\n",
    "    print(f\"{i}. {file}\")\n",
    "    \n",
    "file_index = int(input(\"Wybierz plik audio (numer): \")) - 1\n",
    "if file_index < 0 or file_index >= len(audio_files):\n",
    "    print(\"Nieprawidłowy wybór.\")\n",
    "    \n",
    "selected_file = os.path.join(audio_directory, audio_files[file_index])\n",
    "print(f\"Wybrano plik: {selected_file}\")\n",
    "\n",
    "prog = float(input(\"Podaj wartosc progu; \"))\n",
    "m.progowanie(prog, selected_file)"
   ]
  },
  {
   "cell_type": "markdown",
   "id": "8a17f5e7-9f73-4b69-8322-88100a3279d9",
   "metadata": {},
   "source": [
    "### wykres sinusa o f=25Hz\n",
    "![sine_plot](sine_plot.png)\n",
    "### wykres progowanego sinusa o f=25Hz z progiem ustawionym na 0.25\n",
    "![sin25_progowany](sin25_progowany.png)"
   ]
  }
 ],
 "metadata": {
  "kernelspec": {
   "display_name": "Python 3 (ipykernel)",
   "language": "python",
   "name": "python3"
  },
  "language_info": {
   "codemirror_mode": {
    "name": "ipython",
    "version": 3
   },
   "file_extension": ".py",
   "mimetype": "text/x-python",
   "name": "python",
   "nbconvert_exporter": "python",
   "pygments_lexer": "ipython3",
   "version": "3.12.2"
  }
 },
 "nbformat": 4,
 "nbformat_minor": 5
}
